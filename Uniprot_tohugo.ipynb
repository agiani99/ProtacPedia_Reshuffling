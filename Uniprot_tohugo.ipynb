{
 "cells": [
  {
   "cell_type": "code",
   "execution_count": null,
   "id": "b0d27a56",
   "metadata": {},
   "outputs": [],
   "source": [
    "import pandas as pd\n",
    "import biomart "
   ]
  },
  {
   "cell_type": "code",
   "execution_count": 3,
   "id": "53adb3b2",
   "metadata": {},
   "outputs": [
    {
     "data": {
      "text/plain": [
       "59"
      ]
     },
     "execution_count": 3,
     "metadata": {},
     "output_type": "execute_result"
    }
   ],
   "source": [
    "outp = pd.read_csv(\"protac_fragments_improved_alt_with_metadata.csv\")\n",
    "uniprotid = outp[\"Target\"].unique().tolist()\n",
    "len(uniprotid)"
   ]
  },
  {
   "cell_type": "code",
   "execution_count": null,
   "id": "e345ab4e",
   "metadata": {},
   "outputs": [],
   "source": [
    "\n",
    "# Connect to Ensembl Biomart server\n",
    "server = biomart.BiomartServer('http://www.ensembl.org/biomart')\n",
    "mart = server.datasets['hsapiens_gene_ensembl']\n",
    "\n",
    "# Prepare the query to map UniProt IDs to HUGO gene names\n",
    "response = mart.search({\n",
    "    'filters': {\n",
    "        'uniprotswissprot': uniprotid\n",
    "    },\n",
    "    'attributes': ['hgnc_symbol', 'uniprotswissprot']\n",
    "})\n",
    "\n",
    "# Parse the response and collect results\n",
    "mapping = []\n",
    "for line in response.iter_lines():\n",
    "    line = line.decode('utf-8')\n",
    "    fields = line.strip().split('\\t')\n",
    "    if len(fields) >= 2:\n",
    "        gene_symbol, uniprot_id = fields[0], fields[1]\n",
    "        mapping.append((uniprot_id, gene_symbol))\n",
    "\n",
    "# Convert to DataFrame and save to CSV\n",
    "df = pd.DataFrame(mapping, columns=['UniProt_ID', 'Gene_Name'])\n",
    "df.to_csv('uniprot_to_gene.csv', index=False)"
   ]
  }
 ],
 "metadata": {
  "kernelspec": {
   "display_name": "Python 3.12 (MolDiff)",
   "language": "python",
   "name": "moldiff"
  },
  "language_info": {
   "codemirror_mode": {
    "name": "ipython",
    "version": 3
   },
   "file_extension": ".py",
   "mimetype": "text/x-python",
   "name": "python",
   "nbconvert_exporter": "python",
   "pygments_lexer": "ipython3",
   "version": "3.12.3"
  }
 },
 "nbformat": 4,
 "nbformat_minor": 5
}
